{
 "cells": [
  {
   "cell_type": "code",
   "execution_count": 5,
   "id": "7d78d754-d696-4c17-927f-86ef02edbc9b",
   "metadata": {},
   "outputs": [],
   "source": [
    "import re\n",
    "import string\n",
    "import pandas as pd\n",
    "from collections import Counter\n",
    "import emoji\n",
    "from textblob import TextBlob\n",
    "from vaderSentiment.vaderSentiment import SentimentIntensityAnalyzer\n",
    "\n",
    "# Sample posts (replace this with your scraped data)\n",
    "posts = [\n",
    "    {\"title\": \"Discover the Economic Highs and Potential Risk Ahead: Economic and Market Review\", \"upvotes\": 1, \"comments\": 0},\n",
    "    {\"title\": \"Breaking News: Cryptocurrency is Booming, Is It Time to Invest?\", \"upvotes\": 10, \"comments\": 2},\n",
    "    {\"title\": \"Exciting New Tech Trends in 2025!\", \"upvotes\": 5, \"comments\": 1},\n",
    "    {\"title\": \"Economic Crisis or Booming Economy? What's Next?\", \"upvotes\": 8, \"comments\": 5},\n",
    "    {\"title\": \"How to Make a Difference in the World with AI #AI #Technology\", \"upvotes\": 20, \"comments\": 10}\n",
    "]\n",
    "\n",
    "# Extract titles\n",
    "titles = [post['title'] for post in posts]\n",
    "\n",
    "# Step 1: Text Structure Analysis\n",
    "def text_structure_analysis(titles):\n",
    "    # Get the length of each post title\n",
    "    title_lengths = [len(title.split()) for title in titles]\n",
    "    avg_length = sum(title_lengths) / len(title_lengths)\n",
    "    max_length = max(title_lengths)\n",
    "    min_length = min(title_lengths)\n",
    "    \n",
    "    print(f\"Average Length of Titles: {avg_length} words\")\n",
    "    print(f\"Maximum Length of Title: {max_length} words\")\n",
    "    print(f\"Minimum Length of Title: {min_length} words\")\n",
    "\n",
    "\n",
    "\n",
    "\n",
    "\n",
    "\n"
   ]
  },
  {
   "cell_type": "code",
   "execution_count": 7,
   "id": "d8be2eac-3959-4f80-86b9-254f10fc4871",
   "metadata": {},
   "outputs": [],
   "source": [
    "# Step 2: Identify Common Keywords and Hashtags\n",
    "def identify_keywords_hashtags(titles):\n",
    "    # Extract words (remove punctuation and convert to lowercase)\n",
    "    words = ' '.join(titles).lower()\n",
    "    words = words.translate(str.maketrans('', '', string.punctuation))\n",
    "    word_list = words.split()\n",
    "    \n",
    "    # Filter out common stopwords\n",
    "    stopwords = set([\n",
    "        'the', 'and', 'is', 'in', 'to', 'it', 'of', 'with', 'for', 'on', 'a', 'an', 'at', 'by', 'as', 'from'\n",
    "    ])\n",
    "    filtered_words = [word for word in word_list if word not in stopwords]\n",
    "    \n",
    "    # Most common words\n",
    "    word_count = Counter(filtered_words)\n",
    "    common_words = word_count.most_common(10)\n",
    "    \n",
    "    # Extract hashtags\n",
    "    hashtags = re.findall(r'#\\w+', ' '.join(titles))\n",
    "    \n",
    "    print(\"Most Common Words (excluding stopwords):\", common_words)\n",
    "    print(\"Hashtags found:\", hashtags)"
   ]
  },
  {
   "cell_type": "code",
   "execution_count": null,
   "id": "1d199e9d-7891-451e-a70e-36bae3db924f",
   "metadata": {},
   "outputs": [],
   "source": [
    "# Step 3: Basic Sentiment Trends\n",
    "def sentiment_analysis(titles):\n",
    "    # Initialize VADER Sentiment Analyzer\n",
    "    analyzer = SentimentIntensityAnalyzer()\n",
    "    \n",
    "    sentiments = []\n",
    "    for title in titles:\n",
    "        sentiment_score = analyzer.polarity_scores(title)\n",
    "        sentiments.append(sentiment_score['compound'])\n",
    "    \n",
    "    avg_sentiment = sum(sentiments) / len(sentiments)\n",
    "    print(f\"Average Sentiment Score: {avg_sentiment}\")"
   ]
  },
  {
   "cell_type": "code",
   "execution_count": null,
   "id": "c816b051-15a2-4dce-811f-4a7d69eb50dc",
   "metadata": {},
   "outputs": [],
   "source": [
    "# Step 4: Detect Language Issues, Emoji Usage, and Text Length Variations\n",
    "def detect_issues(titles):\n",
    "    # Detect Emojis\n",
    "    emojis_in_titles = [emoji.demojize(title) for title in titles if emoji.emoji_count(title) > 0]\n",
    "    \n",
    "    # Text length variation\n",
    "    length_variation = [len(title) for title in titles]\n",
    "    avg_title_length = sum(length_variation) / len(length_variation)\n",
    "    max_title_length = max(length_variation)\n",
    "    min_title_length = min(length_variation)\n",
    "    \n",
    "    print(f\"Titles containing emojis: {emojis_in_titles}\")\n",
    "    print(f\"Average Title Length: {avg_title_length} characters\")\n",
    "    print(f\"Maximum Title Length: {max_title_length} characters\")\n",
    "    print(f\"Minimum Title Length: {min_title_length} characters\")\n",
    "\n",
    "# Run the analysis\n",
    "print(\"Step 1: Text Structure Analysis\")\n",
    "text_structure_analysis(titles)\n",
    "print(\"\\nStep 2: Common Keywords and Hashtags\")\n",
    "identify_keywords_hashtags(titles)\n",
    "print(\"\\nStep 3: Sentiment Analysis\")\n",
    "sentiment_analysis(titles)\n",
    "print(\"\\nStep 4: Language Issues, Emoji Usage, and Length Variations\")\n",
    "detect_issues(titles)"
   ]
  },
  {
   "cell_type": "code",
   "execution_count": 9,
   "id": "87fb13c0-db26-42ca-9f30-e03743aa9965",
   "metadata": {},
   "outputs": [
    {
     "name": "stdout",
     "output_type": "stream",
     "text": [
      "Step 1: Text Structure Analysis\n",
      "Average Length of Titles: 9.4 words\n",
      "Maximum Length of Title: 12 words\n",
      "Minimum Length of Title: 6 words\n",
      "\n",
      "Step 2: Common Keywords and Hashtags\n",
      "Most Common Words (excluding stopwords): [('economic', 3), ('booming', 2), ('ai', 2), ('discover', 1), ('highs', 1), ('potential', 1), ('risk', 1), ('ahead', 1), ('market', 1), ('review', 1)]\n",
      "Hashtags found: ['#AI', '#Technology']\n",
      "\n",
      "Step 3: Sentiment Analysis\n",
      "Average Sentiment Score: -0.07966\n",
      "\n",
      "Step 4: Language Issues, Emoji Usage, and Length Variations\n",
      "Titles containing emojis: []\n",
      "Average Title Length: 57.0 characters\n",
      "Maximum Title Length: 80 characters\n",
      "Minimum Title Length: 33 characters\n"
     ]
    }
   ],
   "source": []
  },
  {
   "cell_type": "code",
   "execution_count": null,
   "id": "1c0485eb-3bc5-4797-8bca-217c1b196e9d",
   "metadata": {},
   "outputs": [],
   "source": []
  }
 ],
 "metadata": {
  "kernelspec": {
   "display_name": "Python 3 (ipykernel)",
   "language": "python",
   "name": "python3"
  },
  "language_info": {
   "codemirror_mode": {
    "name": "ipython",
    "version": 3
   },
   "file_extension": ".py",
   "mimetype": "text/x-python",
   "name": "python",
   "nbconvert_exporter": "python",
   "pygments_lexer": "ipython3",
   "version": "3.12.7"
  }
 },
 "nbformat": 4,
 "nbformat_minor": 5
}
